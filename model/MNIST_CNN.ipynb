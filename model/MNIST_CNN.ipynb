{
 "cells": [
  {
   "cell_type": "code",
   "execution_count": 1,
   "metadata": {},
   "outputs": [],
   "source": [
    "import tensorflow as tf\n",
    "import numpy as np"
   ]
  },
  {
   "cell_type": "code",
   "execution_count": 2,
   "metadata": {},
   "outputs": [],
   "source": [
    "from tensorflow.keras.datasets import mnist\n",
    "import matplotlib.pyplot as plt"
   ]
  },
  {
   "cell_type": "code",
   "execution_count": 3,
   "metadata": {},
   "outputs": [],
   "source": [
    "from tensorflow.keras.layers import Dense\n",
    "from tensorflow.keras import Sequential"
   ]
  },
  {
   "cell_type": "markdown",
   "metadata": {},
   "source": [
    "# Getting Data\n",
    "---"
   ]
  },
  {
   "cell_type": "code",
   "execution_count": 4,
   "metadata": {},
   "outputs": [],
   "source": [
    "# load data\n",
    "(X_train, y_train), (X_test, y_test) = mnist.load_data()"
   ]
  },
  {
   "cell_type": "code",
   "execution_count": 5,
   "metadata": {},
   "outputs": [
    {
     "output_type": "stream",
     "name": "stdout",
     "text": [
      "X_train shape:  (60000, 28, 28)\ny_train shape:  (60000,)\nX_test shape:  (10000, 28, 28)\ny_test shape:  (10000,)\n"
     ]
    }
   ],
   "source": [
    "#get shape of data\n",
    "\n",
    "print(\"X_train shape: \", X_train.shape)\n",
    "print(\"y_train shape: \", y_train.shape)\n",
    "print(\"X_test shape: \", X_test.shape)\n",
    "print(\"y_test shape: \", y_test.shape)"
   ]
  },
  {
   "cell_type": "code",
   "execution_count": 6,
   "metadata": {},
   "outputs": [],
   "source": [
    "training_samples = X_train.shape[0]\n",
    "testing_samples = X_test.shape[0]\n",
    "image_size = X_train.shape[1]"
   ]
  },
  {
   "cell_type": "code",
   "execution_count": 7,
   "metadata": {},
   "outputs": [
    {
     "output_type": "display_data",
     "data": {
      "image/png": "[encoded data removed]",
      "text/plain": "<Figure size 432x288 with 6 Axes>",
      "image/svg+xml": "<?xml version=\"1.0\" encoding=\"utf-8\" standalone=\"no\"?>\n<!DOCTYPE svg PUBLIC \"-//W3C//DTD SVG 1.1//EN\"\n  \"http://www.w3.org/Graphics/SVG/1.1/DTD/svg11.dtd\">\n<svg height=\"81.851834pt\" version=\"1.1\" viewBox=\"0 0 371.017092 81.851834\" width=\"371.017092pt\" xmlns=\"http://www.w3.org/2000/svg\" xmlns:xlink=\"http://www.w3.org/1999/xlink\">\n <metadata>\n  <rdf:RDF xmlns:cc=\"http://creativecommons.org/ns#\" xmlns:dc=\"http://purl.org/dc/elements/1.1/\" xmlns:rdf=\"http://www.w3.org/1999/02/22-rdf-syntax-ns#\">\n   <cc:Work>\n    <dc:type rdf:resource=\"http://purl.org/dc/dcmitype/StillImage\"/>\n    <dc:date>2021-05-28T15:10:40.443787</dc:date>\n    <dc:format>image/svg+xml</dc:format>\n    <dc:creator>\n     <cc:Agent>\n      <dc:title>Matplotlib v3.4.2, https://matplotlib.org/</dc:title>\n     </cc:Agent>\n    </dc:creator>\n   </cc:Work>\n  </rdf:RDF>\n </metadata>\n <defs>\n  <style type=\"text/css\">*{stroke-linecap:butt;stroke-linejoin:round;}</style>\n </defs>\n <g id=\"figure_1\">\n  <g id=\"patch_1\">\n   <path d=\"M -0 81.851834 \nL 371.017092 81.851834 \nL 371.017092 0 \nL -0 0 \nz\n\" style=\"fill:none;\"/>\n  </g>\n  <g id=\"axes_1\">\n   <g id=\"patch_2\">\n    <path d=\"M 26.925 57.973709 \nL 74.753571 57.973709 \nL 74.753571 10.145137 \nL 26.925 10.145137 \nz\n\" style=\"fill:#ffffff;\"/>\n   </g>\n   <g clip-path=\"url(#p92be8f41e5)\">\n    <image height=\"48\" id=\"image57e6ca2beb\" transform=\"scale(1 -1)translate(0 -48)\" width=\"48\" x=\"26.925\" xlink:href=\"data:image/png;base64,\niVBORw0KGgoAAAANSUhEUgAAADAAAAAwCAYAAABXAvmHAAAFJElEQVR4nO2ZzW8S6xfHPzPDEKDTUCgtxVokUGuw6oKIxEQTE0PiQpdudKELd678G/wL3HSrbly7aXRDjN2VJsat1Ixtsa3yZtuZQnmZee7ipuT293LTwkDvTfwkT0hI5pzz5eGcOed5JEDwL0Y+7QD65beA08bV18MuF4qiIEkSAEIILMui0+k4EtyxYujlIbfbzejoKPfu3ePGjRucP38el8tFpVLh7du3vHz50uk4/y89CXC5XGiaRiKRIJVKdQVsb2+Tz+edjvFv6SkHvF4v586dY25ujvn5eXw+n9NxHZueBEiShCzLyLKMoihOx3Qieq5CQogjn4ccJvSw6ElAp9Nhf38fwzDY3d3FsixcLheBQICrV6/y6NEjYrEYLldfRe5Y9CTAsiwajQaGYWAYBrZtI8syXq+XaDRKJpMhFAqhqurAd6QnAaZpUigU+Pz5MysrK9TrdWRZRlVVLl68yIMHD0gmk4yNjf0zBQghaLfb6LrOysoK+/v73VxQVRVN0wgEAgSDQWR5sC/7vqx//PiRhYUFSqUSQgiEENi2jRCCs2fPMjs7O/A86PvnsW2ber3OwcHBkYqUTCbJZDJomjZQEY5YPqxIwWCw+59PJBIA+P1+Dg4OME3TCVf/E9HPUhRFZLNZ8ezZM6HruqjVaqLdbgvDMMTW1pZYWFgQjx8/7svH362+d8C2bQqFQreZU1WV0dFRPB4Psixz6dIlqtUqHo+HdruNZVn9ujxC3wKEEGxsbCBJEsvLy6RSKaampoA/u9ZMJoNpmkSjUUqlEjs7O/26PIIjNU4IgWmafPr0qSvmcCmKwvj4OOl0msnJSSfcHcGxIr23t0cul6NQKBwRIEkS4XCYbDZLNBp1yl0Xx+pbp9OhXC7z4cMH3G43d+/eJR6P43a7cbvdhMNhxsfH8fv9mKbpWC44tgO2bdNoNPj27RtLS0usra2xu7uLbduoqsrY2BihUIiJiQnHeyRHy5qiKMLr9Yr79++L58+fi1qtJlqtlmg0GmJ5eVm8fv1azM/PC5/P988oo//JYadaLBbRNI2dnR1UVcXn8zE1NYVlWSQSCdrtNqurq/81T5yUgb3jdV2n1Wqh6zpCCGKxGNPT00xMTHDnzh0mJyfRdb3vE4yBtYqGYbC5ucmrV694//5993tFUUilUly/fp25uTlCoVBffga2A41Gg2azyeLiIgBPnjzpztEXLlxAURTi8TiWZVGpVHr2M9Bm3bZt9vb2+Pr1K4uLi6yvryPLMiMjI0SjUR4+fEg6ne7Lx8CPFi3LwjAMCoUC1WqVTqeDLMv4fD5mZ2eZmZkhGAyiqmpP9gc/dQM/f/7k3bt3hMNhZmZmCAQCeDwerly5wo8fP1hbW2NpaYnNzc0T2x7K4W69XqdYLJLP58nlctRqNdrtNrIsE4lEuHbtGpFIpDv8nGQMHZoAXdfJ5XK8efOG7e1tms0mANFolNu3bxOPxwkEArjd7hMdlkkM8YZG0zT8fj9Pnz7l8uXLZLNZbNum2Wzy5csX1tfXefHiBd+/f2djY+NYNod6P2CaJqVSCV3XKRaL3T5J0zTS6TS3bt0iHA6jadqxbQ79gkMIQaVSoVwu02q1+u5Khy7Atm22trbQdZ3V1VXK5XK3M+2lQx1KGf0rtm2Tz+cpFotEIhFu3rzJmTNnkGW5JyFDTeK/MjIyQjKZZHp6mlgshiRJNBoNcrkcv379olqtHsvOqQlwin/9LeVvAafNbwGnzW8Bp80fcN9hKbAFfrcAAAAASUVORK5CYII=\" y=\"-9.973709\"/>\n   </g>\n   <g id=\"matplotlib.axis_1\">\n    <g id=\"xtick_1\">\n     <g id=\"line2d_1\">\n      <defs>\n       <path d=\"M 0 0 \nL 0 3.5 \n\" id=\"mcb6acec205\" style=\"stroke:#000000;stroke-width:0.8;\"/>\n      </defs>\n      <g>\n       <use style=\"stroke:#000000;stroke-width:0.8;\" x=\"27.779082\" xlink:href=\"#mcb6acec205\" y=\"57.973709\"/>\n      </g>\n     </g>\n     <g id=\"text_1\">\n      <!-- 0 -->\n      <g transform=\"translate(24.597832 72.572146)scale(0.1 -0.1)\">\n       <defs>\n        <path d=\"M 2034 4250 \nQ 1547 4250 1301 3770 \nQ 1056 3291 1056 2328 \nQ 1056 1369 1301 889 \nQ 1547 409 2034 409 \nQ 2525 409 2770 889 \nQ 3016 1369 3016 2328 \nQ 3016 3291 2770 3770 \nQ 2525 4250 2034 4250 \nz\nM 2034 4750 \nQ 2819 4750 3233 4129 \nQ 3647 3509 3647 2328 \nQ 3647 1150 3233 529 \nQ 2819 -91 2034 -91 \nQ 1250 -91 836 529 \nQ 422 1150 422 2328 \nQ 422 3509 836 4129 \nQ 1250 4750 2034 4750 \nz\n\" id=\"DejaVuSans-30\" transform=\"scale(0.015625)\"/>\n       </defs>\n       <use xlink:href=\"#DejaVuSans-30\"/>\n      </g>\n     </g>\n    </g>\n    <g id=\"xtick_2\">\n     <g id=\"line2d_2\">\n      <g>\n       <use style=\"stroke:#000000;stroke-width:0.8;\" x=\"70.483163\" xlink:href=\"#mcb6acec205\" y=\"57.973709\"/>\n      </g>\n     </g>\n     <g id=\"text_2\">\n      <!-- 25 -->\n      <g transform=\"translate(64.120663 72.572146)scale(0.1 -0.1)\">\n       <defs>\n        <path d=\"M 1228 531 \nL 3431 531 \nL 3431 0 \nL 469 0 \nL 469 531 \nQ 828 903 1448 1529 \nQ 2069 2156 2228 2338 \nQ 2531 2678 2651 2914 \nQ 2772 3150 2772 3378 \nQ 2772 3750 2511 3984 \nQ 2250 4219 1831 4219 \nQ 1534 4219 1204 4116 \nQ 875 4013 500 3803 \nL 500 4441 \nQ 881 4594 1212 4672 \nQ 1544 4750 1819 4750 \nQ 2544 4750 2975 4387 \nQ 3406 4025 3406 3419 \nQ 3406 3131 3298 2873 \nQ 3191 2616 2906 2266 \nQ 2828 2175 2409 1742 \nQ 1991 1309 1228 531 \nz\n\" id=\"DejaVuSans-32\" transform=\"scale(0.015625)\"/>\n        <path d=\"M 691 4666 \nL 3169 4666 \nL 3169 4134 \nL 1269 4134 \nL 1269 2991 \nQ 1406 3038 1543 3061 \nQ 1681 3084 1819 3084 \nQ 2600 3084 3056 2656 \nQ 3513 2228 3513 1497 \nQ 3513 744 3044 326 \nQ 2575 -91 1722 -91 \nQ 1428 -91 1123 -41 \nQ 819 9 494 109 \nL 494 744 \nQ 775 591 1075 516 \nQ 1375 441 1709 441 \nQ 2250 441 2565 725 \nQ 2881 1009 2881 1497 \nQ 2881 1984 2565 2268 \nQ 2250 2553 1709 2553 \nQ 1456 2553 1204 2497 \nQ 953 2441 691 2322 \nL 691 4666 \nz\n\" id=\"DejaVuSans-35\" transform=\"scale(0.015625)\"/>\n       </defs>\n       <use xlink:href=\"#DejaVuSans-32\"/>\n       <use x=\"63.623047\" xlink:href=\"#DejaVuSans-35\"/>\n      </g>\n     </g>\n    </g>\n   </g>\n   <g id=\"matplotlib.axis_2\">\n    <g id=\"ytick_1\">\n     <g id=\"line2d_3\">\n      <defs>\n       <path d=\"M 0 0 \nL -3.5 0 \n\" id=\"m01722d41b1\" style=\"stroke:#000000;stroke-width:0.8;\"/>\n      </defs>\n      <g>\n       <use style=\"stroke:#000000;stroke-width:0.8;\" x=\"26.925\" xlink:href=\"#m01722d41b1\" y=\"10.999219\"/>\n      </g>\n     </g>\n     <g id=\"text_3\">\n      <!-- 0 -->\n      <g transform=\"translate(13.5625 14.798437)scale(0.1 -0.1)\">\n       <use xlink:href=\"#DejaVuSans-30\"/>\n      </g>\n     </g>\n    </g>\n    <g id=\"ytick_2\">\n     <g id=\"line2d_4\">\n      <g>\n       <use style=\"stroke:#000000;stroke-width:0.8;\" x=\"26.925\" xlink:href=\"#m01722d41b1\" y=\"45.162484\"/>\n      </g>\n     </g>\n     <g id=\"text_4\">\n      <!-- 20 -->\n      <g transform=\"translate(7.2 48.961703)scale(0.1 -0.1)\">\n       <use xlink:href=\"#DejaVuSans-32\"/>\n       <use x=\"63.623047\" xlink:href=\"#DejaVuSans-30\"/>\n      </g>\n     </g>\n    </g>\n   </g>\n   <g id=\"patch_3\">\n    <path d=\"M 26.925 57.973709 \nL 26.925 10.145137 \n\" style=\"fill:none;stroke:#000000;stroke-linecap:square;stroke-linejoin:miter;stroke-width:0.8;\"/>\n   </g>\n   <g id=\"patch_4\">\n    <path d=\"M 74.753571 57.973709 \nL 74.753571 10.145137 \n\" style=\"fill:none;stroke:#000000;stroke-linecap:square;stroke-linejoin:miter;stroke-width:0.8;\"/>\n   </g>\n   <g id=\"patch_5\">\n    <path d=\"M 26.925 57.973709 \nL 74.753571 57.973709 \n\" style=\"fill:none;stroke:#000000;stroke-linecap:square;stroke-linejoin:miter;stroke-width:0.8;\"/>\n   </g>\n   <g id=\"patch_6\">\n    <path d=\"M 26.925 10.145137 \nL 74.753571 10.145137 \n\" style=\"fill:none;stroke:#000000;stroke-linecap:square;stroke-linejoin:miter;stroke-width:0.8;\"/>\n   </g>\n  </g>\n  <g id=\"axes_2\">\n   <g id=\"patch_7\">\n    <path d=\"M 84.319286 57.973709 \nL 132.147857 57.973709 \nL 132.147857 10.145137 \nL 84.319286 10.145137 \nz\n\" style=\"fill:#ffffff;\"/>\n   </g>\n   <g clip-path=\"url(#pa48235479a)\">\n    <image height=\"48\" id=\"image1fe16ec857\" transform=\"scale(1 -1)translate(0 -48)\" width=\"48\" x=\"84.319286\" xlink:href=\"data:image/png;base64,\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\" y=\"-9.973709\"/>\n   </g>\n   <g id=\"matplotlib.axis_3\">\n    <g id=\"xtick_3\">\n     <g id=\"line2d_5\">\n      <g>\n       <use style=\"stroke:#000000;stroke-width:0.8;\" x=\"85.173367\" xlink:href=\"#mcb6acec205\" y=\"57.973709\"/>\n      </g>\n     </g>\n     <g id=\"text_5\">\n      <!-- 0 -->\n      <g transform=\"translate(81.992117 72.572146)scale(0.1 -0.1)\">\n       <use xlink:href=\"#DejaVuSans-30\"/>\n      </g>\n     </g>\n    </g>\n    <g id=\"xtick_4\">\n     <g id=\"line2d_6\">\n      <g>\n       <use style=\"stroke:#000000;stroke-width:0.8;\" x=\"127.877449\" xlink:href=\"#mcb6acec205\" y=\"57.973709\"/>\n      </g>\n     </g>\n     <g id=\"text_6\">\n      <!-- 25 -->\n      <g transform=\"translate(121.514949 72.572146)scale(0.1 -0.1)\">\n       <use xlink:href=\"#DejaVuSans-32\"/>\n       <use x=\"63.623047\" xlink:href=\"#DejaVuSans-35\"/>\n      </g>\n     </g>\n    </g>\n   </g>\n   <g id=\"matplotlib.axis_4\">\n    <g id=\"ytick_3\">\n     <g id=\"line2d_7\">\n      <g>\n       <use style=\"stroke:#000000;stroke-width:0.8;\" x=\"84.319286\" xlink:href=\"#m01722d41b1\" y=\"10.999219\"/>\n      </g>\n     </g>\n     <g id=\"text_7\">\n      <!-- 0 -->\n      <g transform=\"translate(70.956786 14.798437)scale(0.1 -0.1)\">\n       <use xlink:href=\"#DejaVuSans-30\"/>\n      </g>\n     </g>\n    </g>\n    <g id=\"ytick_4\">\n     <g id=\"line2d_8\">\n      <g>\n       <use style=\"stroke:#000000;stroke-width:0.8;\" x=\"84.319286\" xlink:href=\"#m01722d41b1\" y=\"45.162484\"/>\n      </g>\n     </g>\n     <g id=\"text_8\">\n      <!-- 20 -->\n      <g transform=\"translate(64.594286 48.961703)scale(0.1 -0.1)\">\n       <use xlink:href=\"#DejaVuSans-32\"/>\n       <use x=\"63.623047\" xlink:href=\"#DejaVuSans-30\"/>\n      </g>\n     </g>\n    </g>\n   </g>\n   <g id=\"patch_8\">\n    <path d=\"M 84.319286 57.973709 \nL 84.319286 10.145137 \n\" style=\"fill:none;stroke:#000000;stroke-linecap:square;stroke-linejoin:miter;stroke-width:0.8;\"/>\n   </g>\n   <g id=\"patch_9\">\n    <path d=\"M 132.147857 57.973709 \nL 132.147857 10.145137 \n\" style=\"fill:none;stroke:#000000;stroke-linecap:square;stroke-linejoin:miter;stroke-width:0.8;\"/>\n   </g>\n   <g id=\"patch_10\">\n    <path d=\"M 84.319286 57.973709 \nL 132.147857 57.973709 \n\" style=\"fill:none;stroke:#000000;stroke-linecap:square;stroke-linejoin:miter;stroke-width:0.8;\"/>\n   </g>\n   <g id=\"patch_11\">\n    <path d=\"M 84.319286 10.145137 \nL 132.147857 10.145137 \n\" style=\"fill:none;stroke:#000000;stroke-linecap:square;stroke-linejoin:miter;stroke-width:0.8;\"/>\n   </g>\n  </g>\n  <g id=\"axes_3\">\n   <g id=\"patch_12\">\n    <path d=\"M 141.713571 57.973709 \nL 189.542143 57.973709 \nL 189.542143 10.145137 \nL 141.713571 10.145137 \nz\n\" style=\"fill:#ffffff;\"/>\n   </g>\n   <g clip-path=\"url(#p7525383ba1)\">\n    <image height=\"48\" id=\"image305f6d9970\" transform=\"scale(1 -1)translate(0 -48)\" width=\"48\" x=\"141.713571\" xlink:href=\"data:image/png;base64,\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\" y=\"-9.973709\"/>\n   </g>\n   <g id=\"matplotlib.axis_5\">\n    <g id=\"xtick_5\">\n     <g id=\"line2d_9\">\n      <g>\n       <use style=\"stroke:#000000;stroke-width:0.8;\" x=\"142.567653\" xlink:href=\"#mcb6acec205\" y=\"57.973709\"/>\n      </g>\n     </g>\n     <g id=\"text_9\">\n      <!-- 0 -->\n      <g transform=\"translate(139.386403 72.572146)scale(0.1 -0.1)\">\n       <use xlink:href=\"#DejaVuSans-30\"/>\n      </g>\n     </g>\n    </g>\n    <g id=\"xtick_6\">\n     <g id=\"line2d_10\">\n      <g>\n       <use style=\"stroke:#000000;stroke-width:0.8;\" x=\"185.271735\" xlink:href=\"#mcb6acec205\" y=\"57.973709\"/>\n      </g>\n     </g>\n     <g id=\"text_10\">\n      <!-- 25 -->\n      <g transform=\"translate(178.909235 72.572146)scale(0.1 -0.1)\">\n       <use xlink:href=\"#DejaVuSans-32\"/>\n       <use x=\"63.623047\" xlink:href=\"#DejaVuSans-35\"/>\n      </g>\n     </g>\n    </g>\n   </g>\n   <g id=\"matplotlib.axis_6\">\n    <g id=\"ytick_5\">\n     <g id=\"line2d_11\">\n      <g>\n       <use style=\"stroke:#000000;stroke-width:0.8;\" x=\"141.713571\" xlink:href=\"#m01722d41b1\" y=\"10.999219\"/>\n      </g>\n     </g>\n     <g id=\"text_11\">\n      <!-- 0 -->\n      <g transform=\"translate(128.351071 14.798437)scale(0.1 -0.1)\">\n       <use xlink:href=\"#DejaVuSans-30\"/>\n      </g>\n     </g>\n    </g>\n    <g id=\"ytick_6\">\n     <g id=\"line2d_12\">\n      <g>\n       <use style=\"stroke:#000000;stroke-width:0.8;\" x=\"141.713571\" xlink:href=\"#m01722d41b1\" y=\"45.162484\"/>\n      </g>\n     </g>\n     <g id=\"text_12\">\n      <!-- 20 -->\n      <g transform=\"translate(121.988571 48.961703)scale(0.1 -0.1)\">\n       <use xlink:href=\"#DejaVuSans-32\"/>\n       <use x=\"63.623047\" xlink:href=\"#DejaVuSans-30\"/>\n      </g>\n     </g>\n    </g>\n   </g>\n   <g id=\"patch_13\">\n    <path d=\"M 141.713571 57.973709 \nL 141.713571 10.145137 \n\" style=\"fill:none;stroke:#000000;stroke-linecap:square;stroke-linejoin:miter;stroke-width:0.8;\"/>\n   </g>\n   <g id=\"patch_14\">\n    <path d=\"M 189.542143 57.973709 \nL 189.542143 10.145137 \n\" style=\"fill:none;stroke:#000000;stroke-linecap:square;stroke-linejoin:miter;stroke-width:0.8;\"/>\n   </g>\n   <g id=\"patch_15\">\n    <path d=\"M 141.713571 57.973709 \nL 189.542143 57.973709 \n\" style=\"fill:none;stroke:#000000;stroke-linecap:square;stroke-linejoin:miter;stroke-width:0.8;\"/>\n   </g>\n   <g id=\"patch_16\">\n    <path d=\"M 141.713571 10.145137 \nL 189.542143 10.145137 \n\" style=\"fill:none;stroke:#000000;stroke-linecap:square;stroke-linejoin:miter;stroke-width:0.8;\"/>\n   </g>\n  </g>\n  <g id=\"axes_4\">\n   <g id=\"patch_17\">\n    <path d=\"M 199.107857 57.973709 \nL 246.936429 57.973709 \nL 246.936429 10.145137 \nL 199.107857 10.145137 \nz\n\" style=\"fill:#ffffff;\"/>\n   </g>\n   <g clip-path=\"url(#p634afcbaf4)\">\n    <image height=\"48\" id=\"image16977175c2\" transform=\"scale(1 -1)translate(0 -48)\" width=\"48\" x=\"199.107857\" xlink:href=\"data:image/png;base64,\niVBORw0KGgoAAAANSUhEUgAAADAAAAAwCAYAAABXAvmHAAAFlklEQVR4nO2Zu28TSxSHvx2v7V3ba29sR4Q4JpYwkCaIVwMBRIVEQ0vLn8N/ghAFBR0SDQ8XFIgkPELAgjyUBcfr9SPr53r3FlexiIhzHTtgrsTXuJlzdn4z55w5M5YAj/8xYtwTGJW/AsaNPI6PCiEQQiDLMp7n4boujuPgeYdPx98uwOfzsbCwwNzcHHfv3mVtbY2lpSUePnzI58+fD+3vtwuQJIlUKsWpU6e4dOkSkUiESqVCKBQayt9vzwEhBPPz88zPzyOEQJKk0fwd0bwOhc/nw+fzAQwV9z8ytirked7Ik4c/oIxalsXHjx/Z2dkZyn6sAiRJotlsUiqV6HQ6Q/kYm4Afk3eUcBp7CLXbbWq1Gt1udyj7sSexbdsYhkGz2RzKz9h3YFTGLkCSJHw+39AH2tgFTE9Pc+3aNeLx+FD2fXshWZaJx+P4/X6CwWBfB67rYts2juPQbrfpdDq02+0DP2rbNvV6HYBYLEYmkxm6F+orIJFIcOfOHdLpNLOzs30ddLtdcrkc379/Z21tDcMwWF9f7zvedV3ev3+PqqrcunWLmZkZbty4wYMHD45GgBCC8+fPk81muX79OrquE4vFaDQaOI6zZ2w4HCYYDBIIBKhWq5imiWVZbG9vU6vVeodUo9GgUqlQLpep1+t8+fIFTdOo1+sIIdB1Hb/ffzQCZFnm5s2bXLhwgdu3b+M4Do1Gg+3tbRqNxp6x09PTJJNJzp49i+d5dLvdXihtbGxgmibv3r2jUCiQz+f59OkTm5ubfPjwAYBqtYqu60xMTBAIBI5GAIDf78fv9yNJEsvLyzx58oSlpSWKxeKecalUimQyiSRJKIpCNptFURRUVaXdbiOE4PLly8C/cV+tVqnVauTzeaLRKKFQCFmWEUKQSCSYmpqiUCjguu5oAnavfACFQoE3b96Qy+UwDGPPuKmpKeLxOEIIIpEIpmkSjUaJRqPIskwoFGJubg5VVYnFYhw/fhzXdUkkEr1F2r0TaJqGrusUi8XRBfxIu92mUqns22wVCgVM0wT+redv375FkqSeeEmSuHfvHn6/H1VVOXnyJJlMhitXrpBOp/H7/ciyjCRJpNNpstksX79+/SnXRhIQCATQNG3fJHNdd89q9SufPp+vF+O2bRMMBjFNk1QqRTweZ2JighMnTjA3N8fLly/pdDoD90b/KUDXdU6fPs3y8vJADvej2+3SaDRYXV1ldXWVZ8+ekclkiEajzM/Pc/HiRa5evUoqleLRo0e0Wq3eOXFoAZ7nYVkWlmXheR7hcJipqakDD7NhqFQqPH78mE6nw5kzZ4hEIkxOTqKqKoFAYGABP7USnudRLpcpl8t4noeiKL2kO0pqtRovXrxgZWWFnZ0dFEVB13UURUGWB38s+Wmk67osLi4ihKDZbB4qoQ6D4zi9Q88wDFRVRQhBPB6nVCr9VLL7se8OlEolTNOk1WoNfdEYBMdxevHuui5CCCYmJtA0bWAf++bAxsYGuq5jmubAsTgsnU6n1wwGg0HOnTtHt9tlcXFxIPt92+nd98rd31/JxsYGT58+pVgs9nYgEokMbH/gfeBXhs8uKysr3L9/n83NTSRJIpFIEIvFBrbvm+61Wo3nz5+jqmrvFe1X0Gq1KJVKvHr1CkmSOHbsGLOzs8zMzGBZFrZtH2jfdwdarRb5fJ5v377RbDaP5BVtPxzHodlssrW1xfr6OoqioGkakUhkoA617w7Yts3r16/RNI1wODxwWRsG13UxTZOtrS0mJyd7h+ggi9ZXQKfTwTAMLMtCUZRfXo2q1SqWZREKhVBVdWC7vgKazSYrKytHMrlBMAwDTdNIp9OUy+WB7ST+kL9Zk8kkuq6zsLBAsVgkl8tRr9dptVoH2v0xAoZl7O9Co/JXwLj5K2Dc/BUwbv4B9iuEWFRdFbwAAAAASUVORK5CYII=\" y=\"-9.973709\"/>\n   </g>\n   <g id=\"matplotlib.axis_7\">\n    <g id=\"xtick_7\">\n     <g id=\"line2d_13\">\n      <g>\n       <use style=\"stroke:#000000;stroke-width:0.8;\" x=\"199.961939\" xlink:href=\"#mcb6acec205\" y=\"57.973709\"/>\n      </g>\n     </g>\n     <g id=\"text_13\">\n      <!-- 0 -->\n      <g transform=\"translate(196.780689 72.572146)scale(0.1 -0.1)\">\n       <use xlink:href=\"#DejaVuSans-30\"/>\n      </g>\n     </g>\n    </g>\n    <g id=\"xtick_8\">\n     <g id=\"line2d_14\">\n      <g>\n       <use style=\"stroke:#000000;stroke-width:0.8;\" x=\"242.66602\" xlink:href=\"#mcb6acec205\" y=\"57.973709\"/>\n      </g>\n     </g>\n     <g id=\"text_14\">\n      <!-- 25 -->\n      <g transform=\"translate(236.30352 72.572146)scale(0.1 -0.1)\">\n       <use xlink:href=\"#DejaVuSans-32\"/>\n       <use x=\"63.623047\" xlink:href=\"#DejaVuSans-35\"/>\n      </g>\n     </g>\n    </g>\n   </g>\n   <g id=\"matplotlib.axis_8\">\n    <g id=\"ytick_7\">\n     <g id=\"line2d_15\">\n      <g>\n       <use style=\"stroke:#000000;stroke-width:0.8;\" x=\"199.107857\" xlink:href=\"#m01722d41b1\" y=\"10.999219\"/>\n      </g>\n     </g>\n     <g id=\"text_15\">\n      <!-- 0 -->\n      <g transform=\"translate(185.745357 14.798437)scale(0.1 -0.1)\">\n       <use xlink:href=\"#DejaVuSans-30\"/>\n      </g>\n     </g>\n    </g>\n    <g id=\"ytick_8\">\n     <g id=\"line2d_16\">\n      <g>\n       <use style=\"stroke:#000000;stroke-width:0.8;\" x=\"199.107857\" xlink:href=\"#m01722d41b1\" y=\"45.162484\"/>\n      </g>\n     </g>\n     <g id=\"text_16\">\n      <!-- 20 -->\n      <g transform=\"translate(179.382857 48.961703)scale(0.1 -0.1)\">\n       <use xlink:href=\"#DejaVuSans-32\"/>\n       <use x=\"63.623047\" xlink:href=\"#DejaVuSans-30\"/>\n      </g>\n     </g>\n    </g>\n   </g>\n   <g id=\"patch_18\">\n    <path d=\"M 199.107857 57.973709 \nL 199.107857 10.145137 \n\" style=\"fill:none;stroke:#000000;stroke-linecap:square;stroke-linejoin:miter;stroke-width:0.8;\"/>\n   </g>\n   <g id=\"patch_19\">\n    <path d=\"M 246.936429 57.973709 \nL 246.936429 10.145137 \n\" style=\"fill:none;stroke:#000000;stroke-linecap:square;stroke-linejoin:miter;stroke-width:0.8;\"/>\n   </g>\n   <g id=\"patch_20\">\n    <path d=\"M 199.107857 57.973709 \nL 246.936429 57.973709 \n\" style=\"fill:none;stroke:#000000;stroke-linecap:square;stroke-linejoin:miter;stroke-width:0.8;\"/>\n   </g>\n   <g id=\"patch_21\">\n    <path d=\"M 199.107857 10.145137 \nL 246.936429 10.145137 \n\" style=\"fill:none;stroke:#000000;stroke-linecap:square;stroke-linejoin:miter;stroke-width:0.8;\"/>\n   </g>\n  </g>\n  <g id=\"axes_5\">\n   <g id=\"patch_22\">\n    <path d=\"M 256.502143 57.973709 \nL 304.330714 57.973709 \nL 304.330714 10.145137 \nL 256.502143 10.145137 \nz\n\" style=\"fill:#ffffff;\"/>\n   </g>\n   <g clip-path=\"url(#p40ff7a5443)\">\n    <image height=\"48\" id=\"imagef4dcd8087f\" transform=\"scale(1 -1)translate(0 -48)\" width=\"48\" x=\"256.502143\" xlink:href=\"data:image/png;base64,\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\" y=\"-9.973709\"/>\n   </g>\n   <g id=\"matplotlib.axis_9\">\n    <g id=\"xtick_9\">\n     <g id=\"line2d_17\">\n      <g>\n       <use style=\"stroke:#000000;stroke-width:0.8;\" x=\"257.356224\" xlink:href=\"#mcb6acec205\" y=\"57.973709\"/>\n      </g>\n     </g>\n     <g id=\"text_17\">\n      <!-- 0 -->\n      <g transform=\"translate(254.174974 72.572146)scale(0.1 -0.1)\">\n       <use xlink:href=\"#DejaVuSans-30\"/>\n      </g>\n     </g>\n    </g>\n    <g id=\"xtick_10\">\n     <g id=\"line2d_18\">\n      <g>\n       <use style=\"stroke:#000000;stroke-width:0.8;\" x=\"300.060306\" xlink:href=\"#mcb6acec205\" y=\"57.973709\"/>\n      </g>\n     </g>\n     <g id=\"text_18\">\n      <!-- 25 -->\n      <g transform=\"translate(293.697806 72.572146)scale(0.1 -0.1)\">\n       <use xlink:href=\"#DejaVuSans-32\"/>\n       <use x=\"63.623047\" xlink:href=\"#DejaVuSans-35\"/>\n      </g>\n     </g>\n    </g>\n   </g>\n   <g id=\"matplotlib.axis_10\">\n    <g id=\"ytick_9\">\n     <g id=\"line2d_19\">\n      <g>\n       <use style=\"stroke:#000000;stroke-width:0.8;\" x=\"256.502143\" xlink:href=\"#m01722d41b1\" y=\"10.999219\"/>\n      </g>\n     </g>\n     <g id=\"text_19\">\n      <!-- 0 -->\n      <g transform=\"translate(243.139643 14.798437)scale(0.1 -0.1)\">\n       <use xlink:href=\"#DejaVuSans-30\"/>\n      </g>\n     </g>\n    </g>\n    <g id=\"ytick_10\">\n     <g id=\"line2d_20\">\n      <g>\n       <use style=\"stroke:#000000;stroke-width:0.8;\" x=\"256.502143\" xlink:href=\"#m01722d41b1\" y=\"45.162484\"/>\n      </g>\n     </g>\n     <g id=\"text_20\">\n      <!-- 20 -->\n      <g transform=\"translate(236.777143 48.961703)scale(0.1 -0.1)\">\n       <use xlink:href=\"#DejaVuSans-32\"/>\n       <use x=\"63.623047\" xlink:href=\"#DejaVuSans-30\"/>\n      </g>\n     </g>\n    </g>\n   </g>\n   <g id=\"patch_23\">\n    <path d=\"M 256.502143 57.973709 \nL 256.502143 10.145137 \n\" style=\"fill:none;stroke:#000000;stroke-linecap:square;stroke-linejoin:miter;stroke-width:0.8;\"/>\n   </g>\n   <g id=\"patch_24\">\n    <path d=\"M 304.330714 57.973709 \nL 304.330714 10.145137 \n\" style=\"fill:none;stroke:#000000;stroke-linecap:square;stroke-linejoin:miter;stroke-width:0.8;\"/>\n   </g>\n   <g id=\"patch_25\">\n    <path d=\"M 256.502143 57.973709 \nL 304.330714 57.973709 \n\" style=\"fill:none;stroke:#000000;stroke-linecap:square;stroke-linejoin:miter;stroke-width:0.8;\"/>\n   </g>\n   <g id=\"patch_26\">\n    <path d=\"M 256.502143 10.145137 \nL 304.330714 10.145137 \n\" style=\"fill:none;stroke:#000000;stroke-linecap:square;stroke-linejoin:miter;stroke-width:0.8;\"/>\n   </g>\n  </g>\n  <g id=\"axes_6\">\n   <g id=\"patch_27\">\n    <path d=\"M 313.896429 57.973709 \nL 361.725 57.973709 \nL 361.725 10.145137 \nL 313.896429 10.145137 \nz\n\" style=\"fill:#ffffff;\"/>\n   </g>\n   <g clip-path=\"url(#p9b1e6a9cd9)\">\n    <image height=\"48\" id=\"image2909f619c2\" transform=\"scale(1 -1)translate(0 -48)\" width=\"48\" x=\"313.896429\" xlink:href=\"data:image/png;base64,\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\" y=\"-9.973709\"/>\n   </g>\n   <g id=\"matplotlib.axis_11\">\n    <g id=\"xtick_11\">\n     <g id=\"line2d_21\">\n      <g>\n       <use style=\"stroke:#000000;stroke-width:0.8;\" x=\"314.75051\" xlink:href=\"#mcb6acec205\" y=\"57.973709\"/>\n      </g>\n     </g>\n     <g id=\"text_21\">\n      <!-- 0 -->\n      <g transform=\"translate(311.56926 72.572146)scale(0.1 -0.1)\">\n       <use xlink:href=\"#DejaVuSans-30\"/>\n      </g>\n     </g>\n    </g>\n    <g id=\"xtick_12\">\n     <g id=\"line2d_22\">\n      <g>\n       <use style=\"stroke:#000000;stroke-width:0.8;\" x=\"357.454592\" xlink:href=\"#mcb6acec205\" y=\"57.973709\"/>\n      </g>\n     </g>\n     <g id=\"text_22\">\n      <!-- 25 -->\n      <g transform=\"translate(351.092092 72.572146)scale(0.1 -0.1)\">\n       <use xlink:href=\"#DejaVuSans-32\"/>\n       <use x=\"63.623047\" xlink:href=\"#DejaVuSans-35\"/>\n      </g>\n     </g>\n    </g>\n   </g>\n   <g id=\"matplotlib.axis_12\">\n    <g id=\"ytick_11\">\n     <g id=\"line2d_23\">\n      <g>\n       <use style=\"stroke:#000000;stroke-width:0.8;\" x=\"313.896429\" xlink:href=\"#m01722d41b1\" y=\"10.999219\"/>\n      </g>\n     </g>\n     <g id=\"text_23\">\n      <!-- 0 -->\n      <g transform=\"translate(300.533929 14.798437)scale(0.1 -0.1)\">\n       <use xlink:href=\"#DejaVuSans-30\"/>\n      </g>\n     </g>\n    </g>\n    <g id=\"ytick_12\">\n     <g id=\"line2d_24\">\n      <g>\n       <use style=\"stroke:#000000;stroke-width:0.8;\" x=\"313.896429\" xlink:href=\"#m01722d41b1\" y=\"45.162484\"/>\n      </g>\n     </g>\n     <g id=\"text_24\">\n      <!-- 20 -->\n      <g transform=\"translate(294.171429 48.961703)scale(0.1 -0.1)\">\n       <use xlink:href=\"#DejaVuSans-32\"/>\n       <use x=\"63.623047\" xlink:href=\"#DejaVuSans-30\"/>\n      </g>\n     </g>\n    </g>\n   </g>\n   <g id=\"patch_28\">\n    <path d=\"M 313.896429 57.973709 \nL 313.896429 10.145137 \n\" style=\"fill:none;stroke:#000000;stroke-linecap:square;stroke-linejoin:miter;stroke-width:0.8;\"/>\n   </g>\n   <g id=\"patch_29\">\n    <path d=\"M 361.725 57.973709 \nL 361.725 10.145137 \n\" style=\"fill:none;stroke:#000000;stroke-linecap:square;stroke-linejoin:miter;stroke-width:0.8;\"/>\n   </g>\n   <g id=\"patch_30\">\n    <path d=\"M 313.896429 57.973709 \nL 361.725 57.973709 \n\" style=\"fill:none;stroke:#000000;stroke-linecap:square;stroke-linejoin:miter;stroke-width:0.8;\"/>\n   </g>\n   <g id=\"patch_31\">\n    <path d=\"M 313.896429 10.145137 \nL 361.725 10.145137 \n\" style=\"fill:none;stroke:#000000;stroke-linecap:square;stroke-linejoin:miter;stroke-width:0.8;\"/>\n   </g>\n  </g>\n </g>\n <defs>\n  <clipPath id=\"p92be8f41e5\">\n   <rect height=\"47.828571\" width=\"47.828571\" x=\"26.925\" y=\"10.145137\"/>\n  </clipPath>\n  <clipPath id=\"pa48235479a\">\n   <rect height=\"47.828571\" width=\"47.828571\" x=\"84.319286\" y=\"10.145137\"/>\n  </clipPath>\n  <clipPath id=\"p7525383ba1\">\n   <rect height=\"47.828571\" width=\"47.828571\" x=\"141.713571\" y=\"10.145137\"/>\n  </clipPath>\n  <clipPath id=\"p634afcbaf4\">\n   <rect height=\"47.828571\" width=\"47.828571\" x=\"199.107857\" y=\"10.145137\"/>\n  </clipPath>\n  <clipPath id=\"p40ff7a5443\">\n   <rect height=\"47.828571\" width=\"47.828571\" x=\"256.502143\" y=\"10.145137\"/>\n  </clipPath>\n  <clipPath id=\"p9b1e6a9cd9\">\n   <rect height=\"47.828571\" width=\"47.828571\" x=\"313.896429\" y=\"10.145137\"/>\n  </clipPath>\n </defs>\n</svg>\n"
     },
     "metadata": {
      "needs_background": "light"
     }
    }
   ],
   "source": [
    "# plot some samples\n",
    "plt.subplot(161)\n",
    "plt.imshow(X_train[3], cmap=plt.get_cmap('gray'))\n",
    "plt.subplot(162)\n",
    "plt.imshow(X_train[5], cmap=plt.get_cmap('gray'))\n",
    "plt.subplot(163)\n",
    "plt.imshow(X_train[7], cmap=plt.get_cmap('gray'))\n",
    "plt.subplot(164)\n",
    "plt.imshow(X_train[2], cmap=plt.get_cmap('gray'))\n",
    "plt.subplot(165)\n",
    "plt.imshow(X_train[0], cmap=plt.get_cmap('gray'))\n",
    "plt.subplot(166)\n",
    "plt.imshow(X_train[13], cmap=plt.get_cmap('gray'))\n",
    "\n",
    "plt.show()"
   ]
  },
  {
   "cell_type": "markdown",
   "metadata": {},
   "source": [
    "# Data Preprocessing\n",
    "---\n",
    "\n",
    "- **Normalize inputes** with values from 0 to 255 to a scale from 0 to 1.\n",
    "- **One-Hot Encode** the outputs."
   ]
  },
  {
   "cell_type": "code",
   "execution_count": 8,
   "metadata": {},
   "outputs": [
    {
     "output_type": "execute_result",
     "data": {
      "text/plain": [
       "array([  0,   0,   0,   0,   0,   0,   0,   0,   0,   0,   0,   0,   0,\n",
       "         0,   0,   0,   0,   0,   0,   0,   0,   0,   0,   0,   0,   0,\n",
       "         0,   0,   0,   0,   0,   0,   0,   0,   0,   0,   0,   0,   0,\n",
       "         0,   0,   0,   0,   0,   0,   0,   0,   0,   0,   0,   0,   0,\n",
       "         0,   0,   0,   0,   0,   0,   0,   0,   0,   0,   0,   0,   0,\n",
       "         0,   0,   0,   0,   0,   0,   0,   0,   0,   0,   0,   0,   0,\n",
       "         0,   0,   0,   0,   0,   0,   0,   0,   0,   0,   0,   0,   0,\n",
       "         0,   0,   0,   0,   0,   0,   0,   0,   0,   0,   0,   0,   0,\n",
       "         0,   0,   0,   0,   0,   0,   0,   0,   0,   0,   0,   0,   0,\n",
       "         0,   0,   0,   0,   0,   0,   0,   0,   0,   0,   0,   0,   0,\n",
       "         0,   0,   0,   0,   0,   0,   0,   0,   0,   0,   0,   0,   0,\n",
       "         0,   0,   0,   0,   0,   0,   0,   0,   0,   0,   0,   0,   0,\n",
       "         0,   0, 124, 253, 255,  63,   0,   0,   0,   0,   0,   0,   0,\n",
       "         0,   0,   0,   0,   0,   0,   0,   0,   0,   0,   0,   0,   0,\n",
       "         0,   0,   0,  96, 244, 251, 253,  62,   0,   0,   0,   0,   0,\n",
       "         0,   0,   0,   0,   0,   0,   0,   0,   0,   0,   0,   0,   0,\n",
       "         0,   0,   0,   0,   0, 127, 251, 251, 253,  62,   0,   0,   0,\n",
       "         0,   0,   0,   0,   0,   0,   0,   0,   0,   0,   0,   0,   0,\n",
       "         0,   0,   0,   0,   0,   0,  68, 236, 251, 211,  31,   8,   0,\n",
       "         0,   0,   0,   0,   0,   0,   0,   0,   0,   0,   0,   0,   0,\n",
       "         0,   0,   0,   0,   0,   0,   0,  60, 228, 251, 251,  94,   0,\n",
       "         0,   0,   0,   0,   0,   0,   0,   0,   0,   0,   0,   0,   0,\n",
       "         0,   0,   0,   0,   0,   0,   0,   0,   0, 155, 253, 253, 189,\n",
       "         0,   0,   0,   0,   0,   0,   0,   0,   0,   0,   0,   0,   0,\n",
       "         0,   0,   0,   0,   0,   0,   0,   0,   0,   0,  20, 253, 251,\n",
       "       235,  66,   0,   0,   0,   0,   0,   0,   0,   0,   0,   0,   0,\n",
       "         0,   0,   0,   0,   0,   0,   0,   0,   0,   0,   0,  32, 205,\n",
       "       253, 251, 126,   0,   0,   0,   0,   0,   0,   0,   0,   0,   0,\n",
       "         0,   0,   0,   0,   0,   0,   0,   0,   0,   0,   0,   0,   0,\n",
       "       104, 251, 253, 184,  15,   0,   0,   0,   0,   0,   0,   0,   0,\n",
       "         0,   0,   0,   0,   0,   0,   0,   0,   0,   0,   0,   0,   0,\n",
       "         0,  80, 240, 251, 193,  23,   0,   0,   0,   0,   0,   0,   0,\n",
       "         0,   0,   0,   0,   0,   0,   0,   0,   0,   0,   0,   0,   0,\n",
       "         0,   0,  32, 253, 253, 253, 159,   0,   0,   0,   0,   0,   0,\n",
       "         0,   0,   0,   0,   0,   0,   0,   0,   0,   0,   0,   0,   0,\n",
       "         0,   0,   0,   0, 151, 251, 251, 251,  39,   0,   0,   0,   0,\n",
       "         0,   0,   0,   0,   0,   0,   0,   0,   0,   0,   0,   0,   0,\n",
       "         0,   0,   0,   0,   0,  48, 221, 251, 251, 172,   0,   0,   0,\n",
       "         0,   0,   0,   0,   0,   0,   0,   0,   0,   0,   0,   0,   0,\n",
       "         0,   0,   0,   0,   0,   0,   0, 234, 251, 251, 196,  12,   0,\n",
       "         0,   0,   0,   0,   0,   0,   0,   0,   0,   0,   0,   0,   0,\n",
       "         0,   0,   0,   0,   0,   0,   0,   0,   0, 253, 251, 251,  89,\n",
       "         0,   0,   0,   0,   0,   0,   0,   0,   0,   0,   0,   0,   0,\n",
       "         0,   0,   0,   0,   0,   0,   0,   0,   0,   0, 159, 255, 253,\n",
       "       253,  31,   0,   0,   0,   0,   0,   0,   0,   0,   0,   0,   0,\n",
       "         0,   0,   0,   0,   0,   0,   0,   0,   0,   0,   0,  48, 228,\n",
       "       253, 247, 140,   8,   0,   0,   0,   0,   0,   0,   0,   0,   0,\n",
       "         0,   0,   0,   0,   0,   0,   0,   0,   0,   0,   0,   0,   0,\n",
       "        64, 251, 253, 220,   0,   0,   0,   0,   0,   0,   0,   0,   0,\n",
       "         0,   0,   0,   0,   0,   0,   0,   0,   0,   0,   0,   0,   0,\n",
       "         0,   0,  64, 251, 253, 220,   0,   0,   0,   0,   0,   0,   0,\n",
       "         0,   0,   0,   0,   0,   0,   0,   0,   0,   0,   0,   0,   0,\n",
       "         0,   0,   0,   0,  24, 193, 253, 220,   0,   0,   0,   0,   0,\n",
       "         0,   0,   0,   0,   0,   0,   0,   0,   0,   0,   0,   0,   0,\n",
       "         0,   0,   0,   0,   0,   0,   0,   0,   0,   0,   0,   0,   0,\n",
       "         0,   0,   0,   0,   0,   0,   0,   0,   0,   0,   0,   0,   0,\n",
       "         0,   0,   0,   0,   0,   0,   0,   0,   0,   0,   0,   0,   0,\n",
       "         0,   0,   0,   0,   0,   0,   0,   0,   0,   0,   0,   0,   0,\n",
       "         0,   0,   0,   0,   0,   0,   0,   0,   0,   0,   0,   0,   0,\n",
       "         0,   0,   0,   0,   0,   0,   0,   0,   0,   0,   0,   0,   0,\n",
       "         0,   0,   0,   0], dtype=uint8)"
      ]
     },
     "metadata": {},
     "execution_count": 8
    }
   ],
   "source": [
    "X_train[3].flatten()"
   ]
  },
  {
   "cell_type": "code",
   "execution_count": 9,
   "metadata": {},
   "outputs": [],
   "source": [
    "X_train, X_test = X_train / 255, X_test / 255"
   ]
  },
  {
   "cell_type": "code",
   "execution_count": 10,
   "metadata": {},
   "outputs": [
    {
     "output_type": "execute_result",
     "data": {
      "text/plain": [
       "array([0.        , 0.        , 0.        , 0.        , 0.        ,\n",
       "       0.        , 0.        , 0.        , 0.        , 0.        ,\n",
       "       0.        , 0.        , 0.        , 0.        , 0.        ,\n",
       "       0.        , 0.        , 0.        , 0.        , 0.        ,\n",
       "       0.        , 0.        , 0.        , 0.        , 0.        ,\n",
       "       0.        , 0.        , 0.        , 0.        , 0.        ,\n",
       "       0.        , 0.        , 0.        , 0.        , 0.        ,\n",
       "       0.        , 0.        , 0.        , 0.        , 0.        ,\n",
       "       0.        , 0.        , 0.        , 0.        , 0.        ,\n",
       "       0.        , 0.        , 0.        , 0.        , 0.        ,\n",
       "       0.        , 0.        , 0.        , 0.        , 0.        ,\n",
       "       0.        , 0.        , 0.        , 0.        , 0.        ,\n",
       "       0.        , 0.        , 0.        , 0.        , 0.        ,\n",
       "       0.        , 0.        , 0.        , 0.        , 0.        ,\n",
       "       0.        , 0.        , 0.        , 0.        , 0.        ,\n",
       "       0.        , 0.        , 0.        , 0.        , 0.        ,\n",
       "       0.        , 0.        , 0.        , 0.        , 0.        ,\n",
       "       0.        , 0.        , 0.        , 0.        , 0.        ,\n",
       "       0.        , 0.        , 0.        , 0.        , 0.        ,\n",
       "       0.        , 0.        , 0.        , 0.        , 0.        ,\n",
       "       0.        , 0.        , 0.        , 0.        , 0.        ,\n",
       "       0.        , 0.        , 0.        , 0.        , 0.        ,\n",
       "       0.        , 0.        , 0.        , 0.        , 0.        ,\n",
       "       0.        , 0.        , 0.        , 0.        , 0.        ,\n",
       "       0.        , 0.        , 0.        , 0.        , 0.        ,\n",
       "       0.        , 0.        , 0.        , 0.        , 0.        ,\n",
       "       0.        , 0.        , 0.        , 0.        , 0.        ,\n",
       "       0.        , 0.        , 0.        , 0.        , 0.        ,\n",
       "       0.        , 0.        , 0.        , 0.        , 0.        ,\n",
       "       0.        , 0.        , 0.        , 0.        , 0.        ,\n",
       "       0.        , 0.        , 0.        , 0.        , 0.        ,\n",
       "       0.        , 0.        , 0.        , 0.48627451, 0.99215686,\n",
       "       1.        , 0.24705882, 0.        , 0.        , 0.        ,\n",
       "       0.        , 0.        , 0.        , 0.        , 0.        ,\n",
       "       0.        , 0.        , 0.        , 0.        , 0.        ,\n",
       "       0.        , 0.        , 0.        , 0.        , 0.        ,\n",
       "       0.        , 0.        , 0.        , 0.        , 0.        ,\n",
       "       0.37647059, 0.95686275, 0.98431373, 0.99215686, 0.24313725,\n",
       "       0.        , 0.        , 0.        , 0.        , 0.        ,\n",
       "       0.        , 0.        , 0.        , 0.        , 0.        ,\n",
       "       0.        , 0.        , 0.        , 0.        , 0.        ,\n",
       "       0.        , 0.        , 0.        , 0.        , 0.        ,\n",
       "       0.        , 0.        , 0.        , 0.49803922, 0.98431373,\n",
       "       0.98431373, 0.99215686, 0.24313725, 0.        , 0.        ,\n",
       "       0.        , 0.        , 0.        , 0.        , 0.        ,\n",
       "       0.        , 0.        , 0.        , 0.        , 0.        ,\n",
       "       0.        , 0.        , 0.        , 0.        , 0.        ,\n",
       "       0.        , 0.        , 0.        , 0.        , 0.        ,\n",
       "       0.26666667, 0.9254902 , 0.98431373, 0.82745098, 0.12156863,\n",
       "       0.03137255, 0.        , 0.        , 0.        , 0.        ,\n",
       "       0.        , 0.        , 0.        , 0.        , 0.        ,\n",
       "       0.        , 0.        , 0.        , 0.        , 0.        ,\n",
       "       0.        , 0.        , 0.        , 0.        , 0.        ,\n",
       "       0.        , 0.        , 0.23529412, 0.89411765, 0.98431373,\n",
       "       0.98431373, 0.36862745, 0.        , 0.        , 0.        ,\n",
       "       0.        , 0.        , 0.        , 0.        , 0.        ,\n",
       "       0.        , 0.        , 0.        , 0.        , 0.        ,\n",
       "       0.        , 0.        , 0.        , 0.        , 0.        ,\n",
       "       0.        , 0.        , 0.        , 0.        , 0.        ,\n",
       "       0.60784314, 0.99215686, 0.99215686, 0.74117647, 0.        ,\n",
       "       0.        , 0.        , 0.        , 0.        , 0.        ,\n",
       "       0.        , 0.        , 0.        , 0.        , 0.        ,\n",
       "       0.        , 0.        , 0.        , 0.        , 0.        ,\n",
       "       0.        , 0.        , 0.        , 0.        , 0.        ,\n",
       "       0.        , 0.        , 0.07843137, 0.99215686, 0.98431373,\n",
       "       0.92156863, 0.25882353, 0.        , 0.        , 0.        ,\n",
       "       0.        , 0.        , 0.        , 0.        , 0.        ,\n",
       "       0.        , 0.        , 0.        , 0.        , 0.        ,\n",
       "       0.        , 0.        , 0.        , 0.        , 0.        ,\n",
       "       0.        , 0.        , 0.        , 0.        , 0.1254902 ,\n",
       "       0.80392157, 0.99215686, 0.98431373, 0.49411765, 0.        ,\n",
       "       0.        , 0.        , 0.        , 0.        , 0.        ,\n",
       "       0.        , 0.        , 0.        , 0.        , 0.        ,\n",
       "       0.        , 0.        , 0.        , 0.        , 0.        ,\n",
       "       0.        , 0.        , 0.        , 0.        , 0.        ,\n",
       "       0.        , 0.        , 0.40784314, 0.98431373, 0.99215686,\n",
       "       0.72156863, 0.05882353, 0.        , 0.        , 0.        ,\n",
       "       0.        , 0.        , 0.        , 0.        , 0.        ,\n",
       "       0.        , 0.        , 0.        , 0.        , 0.        ,\n",
       "       0.        , 0.        , 0.        , 0.        , 0.        ,\n",
       "       0.        , 0.        , 0.        , 0.        , 0.31372549,\n",
       "       0.94117647, 0.98431373, 0.75686275, 0.09019608, 0.        ,\n",
       "       0.        , 0.        , 0.        , 0.        , 0.        ,\n",
       "       0.        , 0.        , 0.        , 0.        , 0.        ,\n",
       "       0.        , 0.        , 0.        , 0.        , 0.        ,\n",
       "       0.        , 0.        , 0.        , 0.        , 0.        ,\n",
       "       0.        , 0.1254902 , 0.99215686, 0.99215686, 0.99215686,\n",
       "       0.62352941, 0.        , 0.        , 0.        , 0.        ,\n",
       "       0.        , 0.        , 0.        , 0.        , 0.        ,\n",
       "       0.        , 0.        , 0.        , 0.        , 0.        ,\n",
       "       0.        , 0.        , 0.        , 0.        , 0.        ,\n",
       "       0.        , 0.        , 0.        , 0.        , 0.59215686,\n",
       "       0.98431373, 0.98431373, 0.98431373, 0.15294118, 0.        ,\n",
       "       0.        , 0.        , 0.        , 0.        , 0.        ,\n",
       "       0.        , 0.        , 0.        , 0.        , 0.        ,\n",
       "       0.        , 0.        , 0.        , 0.        , 0.        ,\n",
       "       0.        , 0.        , 0.        , 0.        , 0.        ,\n",
       "       0.        , 0.18823529, 0.86666667, 0.98431373, 0.98431373,\n",
       "       0.6745098 , 0.        , 0.        , 0.        , 0.        ,\n",
       "       0.        , 0.        , 0.        , 0.        , 0.        ,\n",
       "       0.        , 0.        , 0.        , 0.        , 0.        ,\n",
       "       0.        , 0.        , 0.        , 0.        , 0.        ,\n",
       "       0.        , 0.        , 0.        , 0.        , 0.91764706,\n",
       "       0.98431373, 0.98431373, 0.76862745, 0.04705882, 0.        ,\n",
       "       0.        , 0.        , 0.        , 0.        , 0.        ,\n",
       "       0.        , 0.        , 0.        , 0.        , 0.        ,\n",
       "       0.        , 0.        , 0.        , 0.        , 0.        ,\n",
       "       0.        , 0.        , 0.        , 0.        , 0.        ,\n",
       "       0.        , 0.        , 0.99215686, 0.98431373, 0.98431373,\n",
       "       0.34901961, 0.        , 0.        , 0.        , 0.        ,\n",
       "       0.        , 0.        , 0.        , 0.        , 0.        ,\n",
       "       0.        , 0.        , 0.        , 0.        , 0.        ,\n",
       "       0.        , 0.        , 0.        , 0.        , 0.        ,\n",
       "       0.        , 0.        , 0.        , 0.        , 0.62352941,\n",
       "       1.        , 0.99215686, 0.99215686, 0.12156863, 0.        ,\n",
       "       0.        , 0.        , 0.        , 0.        , 0.        ,\n",
       "       0.        , 0.        , 0.        , 0.        , 0.        ,\n",
       "       0.        , 0.        , 0.        , 0.        , 0.        ,\n",
       "       0.        , 0.        , 0.        , 0.        , 0.        ,\n",
       "       0.        , 0.18823529, 0.89411765, 0.99215686, 0.96862745,\n",
       "       0.54901961, 0.03137255, 0.        , 0.        , 0.        ,\n",
       "       0.        , 0.        , 0.        , 0.        , 0.        ,\n",
       "       0.        , 0.        , 0.        , 0.        , 0.        ,\n",
       "       0.        , 0.        , 0.        , 0.        , 0.        ,\n",
       "       0.        , 0.        , 0.        , 0.        , 0.25098039,\n",
       "       0.98431373, 0.99215686, 0.8627451 , 0.        , 0.        ,\n",
       "       0.        , 0.        , 0.        , 0.        , 0.        ,\n",
       "       0.        , 0.        , 0.        , 0.        , 0.        ,\n",
       "       0.        , 0.        , 0.        , 0.        , 0.        ,\n",
       "       0.        , 0.        , 0.        , 0.        , 0.        ,\n",
       "       0.        , 0.        , 0.25098039, 0.98431373, 0.99215686,\n",
       "       0.8627451 , 0.        , 0.        , 0.        , 0.        ,\n",
       "       0.        , 0.        , 0.        , 0.        , 0.        ,\n",
       "       0.        , 0.        , 0.        , 0.        , 0.        ,\n",
       "       0.        , 0.        , 0.        , 0.        , 0.        ,\n",
       "       0.        , 0.        , 0.        , 0.        , 0.        ,\n",
       "       0.09411765, 0.75686275, 0.99215686, 0.8627451 , 0.        ,\n",
       "       0.        , 0.        , 0.        , 0.        , 0.        ,\n",
       "       0.        , 0.        , 0.        , 0.        , 0.        ,\n",
       "       0.        , 0.        , 0.        , 0.        , 0.        ,\n",
       "       0.        , 0.        , 0.        , 0.        , 0.        ,\n",
       "       0.        , 0.        , 0.        , 0.        , 0.        ,\n",
       "       0.        , 0.        , 0.        , 0.        , 0.        ,\n",
       "       0.        , 0.        , 0.        , 0.        , 0.        ,\n",
       "       0.        , 0.        , 0.        , 0.        , 0.        ,\n",
       "       0.        , 0.        , 0.        , 0.        , 0.        ,\n",
       "       0.        , 0.        , 0.        , 0.        , 0.        ,\n",
       "       0.        , 0.        , 0.        , 0.        , 0.        ,\n",
       "       0.        , 0.        , 0.        , 0.        , 0.        ,\n",
       "       0.        , 0.        , 0.        , 0.        , 0.        ,\n",
       "       0.        , 0.        , 0.        , 0.        , 0.        ,\n",
       "       0.        , 0.        , 0.        , 0.        , 0.        ,\n",
       "       0.        , 0.        , 0.        , 0.        , 0.        ,\n",
       "       0.        , 0.        , 0.        , 0.        , 0.        ,\n",
       "       0.        , 0.        , 0.        , 0.        , 0.        ,\n",
       "       0.        , 0.        , 0.        , 0.        , 0.        ,\n",
       "       0.        , 0.        , 0.        , 0.        ])"
      ]
     },
     "metadata": {},
     "execution_count": 10
    }
   ],
   "source": [
    "X_train[3].flatten()"
   ]
  },
  {
   "cell_type": "code",
   "execution_count": 11,
   "metadata": {},
   "outputs": [
    {
     "output_type": "execute_result",
     "data": {
      "text/plain": [
       "array([1, 9, 2, 1, 3, 1, 4], dtype=uint8)"
      ]
     },
     "metadata": {},
     "execution_count": 11
    }
   ],
   "source": [
    "y_train[3:10]"
   ]
  },
  {
   "cell_type": "code",
   "execution_count": 12,
   "metadata": {},
   "outputs": [],
   "source": [
    "num_classes = 10"
   ]
  },
  {
   "cell_type": "code",
   "execution_count": 13,
   "metadata": {},
   "outputs": [],
   "source": [
    "y_train = tf.one_hot(y_train, num_classes)"
   ]
  },
  {
   "cell_type": "code",
   "execution_count": 14,
   "metadata": {},
   "outputs": [
    {
     "output_type": "execute_result",
     "data": {
      "text/plain": [
       "<tf.Tensor: shape=(10,), dtype=float32, numpy=array([0., 0., 0., 0., 0., 0., 0., 0., 0., 1.], dtype=float32)>"
      ]
     },
     "metadata": {},
     "execution_count": 14
    }
   ],
   "source": [
    "y_train[4] # corresponding to a digit 9"
   ]
  },
  {
   "cell_type": "code",
   "execution_count": 15,
   "metadata": {},
   "outputs": [],
   "source": [
    "y_test = tf.one_hot(y_test, num_classes)"
   ]
  },
  {
   "cell_type": "markdown",
   "metadata": {},
   "source": [
    "# Model Training\n",
    "---"
   ]
  },
  {
   "cell_type": "code",
   "execution_count": 16,
   "metadata": {},
   "outputs": [],
   "source": [
    "num_epochs = 30\n",
    "batch_size = 200"
   ]
  },
  {
   "cell_type": "code",
   "execution_count": 17,
   "metadata": {},
   "outputs": [],
   "source": [
    "# Reshape the inputs\n",
    "x_train = X_train.reshape(training_samples, image_size * image_size)\n",
    "x_test = X_test.reshape(testing_samples, image_size * image_size)"
   ]
  },
  {
   "cell_type": "code",
   "execution_count": 18,
   "metadata": {},
   "outputs": [],
   "source": [
    "# Creating the model\n",
    "model = Sequential([\n",
    "    Dense(image_size * image_size, input_dim = image_size*image_size, activation = 'relu'),\n",
    "    Dense(num_classes, activation = 'softmax')\n",
    "])"
   ]
  },
  {
   "cell_type": "code",
   "execution_count": 19,
   "metadata": {},
   "outputs": [],
   "source": [
    "model.compile(loss='categorical_crossentropy', optimizer='adam', metrics=['accuracy'])"
   ]
  },
  {
   "cell_type": "code",
   "execution_count": 20,
   "metadata": {},
   "outputs": [
    {
     "output_type": "stream",
     "name": "stdout",
     "text": [
      "Epoch 1/30\n",
      "300/300 - 2s - loss: 0.2779 - accuracy: 0.9200 - val_loss: 0.1405 - val_accuracy: 0.9588\n",
      "Epoch 2/30\n",
      "300/300 - 0s - loss: 0.1105 - accuracy: 0.9686 - val_loss: 0.0978 - val_accuracy: 0.9704\n",
      "Epoch 3/30\n",
      "300/300 - 0s - loss: 0.0722 - accuracy: 0.9792 - val_loss: 0.0796 - val_accuracy: 0.9753\n",
      "Epoch 4/30\n",
      "300/300 - 0s - loss: 0.0520 - accuracy: 0.9852 - val_loss: 0.0712 - val_accuracy: 0.9763\n",
      "Epoch 5/30\n",
      "300/300 - 0s - loss: 0.0378 - accuracy: 0.9892 - val_loss: 0.0633 - val_accuracy: 0.9797\n",
      "Epoch 6/30\n",
      "300/300 - 0s - loss: 0.0274 - accuracy: 0.9930 - val_loss: 0.0628 - val_accuracy: 0.9807\n",
      "Epoch 7/30\n",
      "300/300 - 0s - loss: 0.0208 - accuracy: 0.9946 - val_loss: 0.0647 - val_accuracy: 0.9783\n",
      "Epoch 8/30\n",
      "300/300 - 0s - loss: 0.0154 - accuracy: 0.9962 - val_loss: 0.0594 - val_accuracy: 0.9821\n",
      "Epoch 9/30\n",
      "300/300 - 0s - loss: 0.0107 - accuracy: 0.9979 - val_loss: 0.0618 - val_accuracy: 0.9822\n",
      "Epoch 10/30\n",
      "300/300 - 0s - loss: 0.0100 - accuracy: 0.9978 - val_loss: 0.0596 - val_accuracy: 0.9809\n",
      "Epoch 11/30\n",
      "300/300 - 0s - loss: 0.0074 - accuracy: 0.9986 - val_loss: 0.0750 - val_accuracy: 0.9773\n",
      "Epoch 12/30\n",
      "300/300 - 0s - loss: 0.0051 - accuracy: 0.9991 - val_loss: 0.0611 - val_accuracy: 0.9811\n",
      "Epoch 13/30\n",
      "300/300 - 0s - loss: 0.0048 - accuracy: 0.9991 - val_loss: 0.0593 - val_accuracy: 0.9826\n",
      "Epoch 14/30\n",
      "300/300 - 0s - loss: 0.0026 - accuracy: 0.9998 - val_loss: 0.0620 - val_accuracy: 0.9829\n",
      "Epoch 15/30\n",
      "300/300 - 0s - loss: 0.0017 - accuracy: 0.9999 - val_loss: 0.0637 - val_accuracy: 0.9816\n",
      "Epoch 16/30\n",
      "300/300 - 0s - loss: 0.0011 - accuracy: 1.0000 - val_loss: 0.0597 - val_accuracy: 0.9828\n",
      "Epoch 17/30\n",
      "300/300 - 0s - loss: 8.4526e-04 - accuracy: 1.0000 - val_loss: 0.0608 - val_accuracy: 0.9835\n",
      "Epoch 18/30\n",
      "300/300 - 1s - loss: 0.0046 - accuracy: 0.9988 - val_loss: 0.1334 - val_accuracy: 0.9679\n",
      "Epoch 19/30\n",
      "300/300 - 0s - loss: 0.0223 - accuracy: 0.9926 - val_loss: 0.0826 - val_accuracy: 0.9783\n",
      "Epoch 20/30\n",
      "300/300 - 0s - loss: 0.0061 - accuracy: 0.9983 - val_loss: 0.0684 - val_accuracy: 0.9811\n",
      "Epoch 21/30\n",
      "300/300 - 0s - loss: 0.0024 - accuracy: 0.9995 - val_loss: 0.0631 - val_accuracy: 0.9837\n",
      "Epoch 22/30\n",
      "300/300 - 0s - loss: 8.0350e-04 - accuracy: 0.9999 - val_loss: 0.0655 - val_accuracy: 0.9833\n",
      "Epoch 23/30\n",
      "300/300 - 0s - loss: 3.6765e-04 - accuracy: 1.0000 - val_loss: 0.0639 - val_accuracy: 0.9839\n",
      "Epoch 24/30\n",
      "300/300 - 0s - loss: 2.7451e-04 - accuracy: 1.0000 - val_loss: 0.0652 - val_accuracy: 0.9829\n",
      "Epoch 25/30\n",
      "300/300 - 0s - loss: 2.2611e-04 - accuracy: 1.0000 - val_loss: 0.0665 - val_accuracy: 0.9832\n",
      "Epoch 26/30\n",
      "300/300 - 0s - loss: 2.0137e-04 - accuracy: 1.0000 - val_loss: 0.0666 - val_accuracy: 0.9835\n",
      "Epoch 27/30\n",
      "300/300 - 0s - loss: 1.7329e-04 - accuracy: 1.0000 - val_loss: 0.0672 - val_accuracy: 0.9834\n",
      "Epoch 28/30\n",
      "300/300 - 0s - loss: 1.5410e-04 - accuracy: 1.0000 - val_loss: 0.0678 - val_accuracy: 0.9834\n",
      "Epoch 29/30\n",
      "300/300 - 0s - loss: 1.3688e-04 - accuracy: 1.0000 - val_loss: 0.0684 - val_accuracy: 0.9837\n",
      "Epoch 30/30\n",
      "300/300 - 0s - loss: 1.2020e-04 - accuracy: 1.0000 - val_loss: 0.0690 - val_accuracy: 0.9835\n"
     ]
    },
    {
     "output_type": "execute_result",
     "data": {
      "text/plain": [
       "<tensorflow.python.keras.callbacks.History at 0x7f1e4ff00550>"
      ]
     },
     "metadata": {},
     "execution_count": 20
    }
   ],
   "source": [
    "model.fit(x_train, y_train, validation_data=(x_test,y_test), epochs=num_epochs,batch_size=batch_size,verbose=2)"
   ]
  },
  {
   "cell_type": "code",
   "execution_count": 21,
   "metadata": {},
   "outputs": [],
   "source": [
    "model.save(\"model.h5\")"
   ]
  },
  {
   "cell_type": "code",
   "execution_count": 22,
   "metadata": {},
   "outputs": [],
   "source": [
    "import os\n",
    "if not os.path.exists('content'):\n",
    "    os.makedirs('content')"
   ]
  },
  {
   "cell_type": "code",
   "execution_count": 23,
   "metadata": {},
   "outputs": [
    {
     "output_type": "stream",
     "name": "stdout",
     "text": [
      "Defaulting to user installation because normal site-packages is not writeable\n",
      "Requirement already satisfied: tensorflowjs in /home/borghi/.local/lib/python3.9/site-packages (3.6.0)\n",
      "Requirement already satisfied: tensorflow-hub<0.10,>=0.7.0 in /home/borghi/.local/lib/python3.9/site-packages (from tensorflowjs) (0.9.0)\n",
      "Requirement already satisfied: tensorflow<3,>=2.1.0 in /home/borghi/.local/lib/python3.9/site-packages (from tensorflowjs) (2.5.0)\n",
      "Requirement already satisfied: six<2,>=1.12.0 in /home/borghi/.local/lib/python3.9/site-packages (from tensorflowjs) (1.15.0)\n",
      "Requirement already satisfied: grpcio~=1.34.0 in /home/borghi/.local/lib/python3.9/site-packages (from tensorflow<3,>=2.1.0->tensorflowjs) (1.34.1)\n",
      "Requirement already satisfied: termcolor~=1.1.0 in /home/borghi/.local/lib/python3.9/site-packages (from tensorflow<3,>=2.1.0->tensorflowjs) (1.1.0)\n",
      "Requirement already satisfied: astunparse~=1.6.3 in /home/borghi/.local/lib/python3.9/site-packages (from tensorflow<3,>=2.1.0->tensorflowjs) (1.6.3)\n",
      "Requirement already satisfied: wrapt~=1.12.1 in /home/borghi/.local/lib/python3.9/site-packages (from tensorflow<3,>=2.1.0->tensorflowjs) (1.12.1)\n",
      "Requirement already satisfied: keras-preprocessing~=1.1.2 in /home/borghi/.local/lib/python3.9/site-packages (from tensorflow<3,>=2.1.0->tensorflowjs) (1.1.2)\n",
      "Requirement already satisfied: h5py~=3.1.0 in /home/borghi/.local/lib/python3.9/site-packages (from tensorflow<3,>=2.1.0->tensorflowjs) (3.1.0)\n",
      "Requirement already satisfied: tensorflow-estimator<2.6.0,>=2.5.0rc0 in /home/borghi/.local/lib/python3.9/site-packages (from tensorflow<3,>=2.1.0->tensorflowjs) (2.5.0)\n",
      "Requirement already satisfied: google-pasta~=0.2 in /home/borghi/.local/lib/python3.9/site-packages (from tensorflow<3,>=2.1.0->tensorflowjs) (0.2.0)\n",
      "Requirement already satisfied: numpy~=1.19.2 in /home/borghi/.local/lib/python3.9/site-packages (from tensorflow<3,>=2.1.0->tensorflowjs) (1.19.5)\n",
      "Requirement already satisfied: flatbuffers~=1.12.0 in /home/borghi/.local/lib/python3.9/site-packages (from tensorflow<3,>=2.1.0->tensorflowjs) (1.12)\n",
      "Requirement already satisfied: keras-nightly~=2.5.0.dev in /home/borghi/.local/lib/python3.9/site-packages (from tensorflow<3,>=2.1.0->tensorflowjs) (2.5.0.dev2021032900)\n",
      "Requirement already satisfied: opt-einsum~=3.3.0 in /home/borghi/.local/lib/python3.9/site-packages (from tensorflow<3,>=2.1.0->tensorflowjs) (3.3.0)\n",
      "Requirement already satisfied: protobuf>=3.9.2 in /home/borghi/.local/lib/python3.9/site-packages (from tensorflow<3,>=2.1.0->tensorflowjs) (3.17.1)\n",
      "Requirement already satisfied: typing-extensions~=3.7.4 in /home/borghi/.local/lib/python3.9/site-packages (from tensorflow<3,>=2.1.0->tensorflowjs) (3.7.4.3)\n",
      "Requirement already satisfied: gast==0.4.0 in /home/borghi/.local/lib/python3.9/site-packages (from tensorflow<3,>=2.1.0->tensorflowjs) (0.4.0)\n",
      "Requirement already satisfied: wheel~=0.35 in /home/borghi/.local/lib/python3.9/site-packages (from tensorflow<3,>=2.1.0->tensorflowjs) (0.36.2)\n",
      "Requirement already satisfied: absl-py~=0.10 in /home/borghi/.local/lib/python3.9/site-packages (from tensorflow<3,>=2.1.0->tensorflowjs) (0.12.0)\n",
      "Requirement already satisfied: tensorboard~=2.5 in /home/borghi/.local/lib/python3.9/site-packages (from tensorflow<3,>=2.1.0->tensorflowjs) (2.5.0)\n",
      "Requirement already satisfied: google-auth<2,>=1.6.3 in /home/borghi/.local/lib/python3.9/site-packages (from tensorboard~=2.5->tensorflow<3,>=2.1.0->tensorflowjs) (1.30.1)\n",
      "Requirement already satisfied: tensorboard-data-server<0.7.0,>=0.6.0 in /home/borghi/.local/lib/python3.9/site-packages (from tensorboard~=2.5->tensorflow<3,>=2.1.0->tensorflowjs) (0.6.1)\n",
      "Requirement already satisfied: tensorboard-plugin-wit>=1.6.0 in /home/borghi/.local/lib/python3.9/site-packages (from tensorboard~=2.5->tensorflow<3,>=2.1.0->tensorflowjs) (1.8.0)\n",
      "Requirement already satisfied: setuptools>=41.0.0 in /home/borghi/.local/lib/python3.9/site-packages (from tensorboard~=2.5->tensorflow<3,>=2.1.0->tensorflowjs) (51.3.3)\n",
      "Requirement already satisfied: markdown>=2.6.8 in /home/borghi/.local/lib/python3.9/site-packages (from tensorboard~=2.5->tensorflow<3,>=2.1.0->tensorflowjs) (3.3.4)\n",
      "Requirement already satisfied: requests<3,>=2.21.0 in /home/borghi/.local/lib/python3.9/site-packages (from tensorboard~=2.5->tensorflow<3,>=2.1.0->tensorflowjs) (2.25.1)\n",
      "Requirement already satisfied: google-auth-oauthlib<0.5,>=0.4.1 in /home/borghi/.local/lib/python3.9/site-packages (from tensorboard~=2.5->tensorflow<3,>=2.1.0->tensorflowjs) (0.4.4)\n",
      "Requirement already satisfied: werkzeug>=0.11.15 in /home/borghi/.local/lib/python3.9/site-packages (from tensorboard~=2.5->tensorflow<3,>=2.1.0->tensorflowjs) (2.0.1)\n",
      "Requirement already satisfied: cachetools<5.0,>=2.0.0 in /home/borghi/.local/lib/python3.9/site-packages (from google-auth<2,>=1.6.3->tensorboard~=2.5->tensorflow<3,>=2.1.0->tensorflowjs) (4.2.2)\n",
      "Requirement already satisfied: rsa<5,>=3.1.4 in /home/borghi/.local/lib/python3.9/site-packages (from google-auth<2,>=1.6.3->tensorboard~=2.5->tensorflow<3,>=2.1.0->tensorflowjs) (4.7.2)\n",
      "Requirement already satisfied: pyasn1-modules>=0.2.1 in /home/borghi/.local/lib/python3.9/site-packages (from google-auth<2,>=1.6.3->tensorboard~=2.5->tensorflow<3,>=2.1.0->tensorflowjs) (0.2.8)\n",
      "Requirement already satisfied: requests-oauthlib>=0.7.0 in /home/borghi/.local/lib/python3.9/site-packages (from google-auth-oauthlib<0.5,>=0.4.1->tensorboard~=2.5->tensorflow<3,>=2.1.0->tensorflowjs) (1.3.0)\n",
      "Requirement already satisfied: pyasn1<0.5.0,>=0.4.6 in /home/borghi/.local/lib/python3.9/site-packages (from pyasn1-modules>=0.2.1->google-auth<2,>=1.6.3->tensorboard~=2.5->tensorflow<3,>=2.1.0->tensorflowjs) (0.4.8)\n",
      "Requirement already satisfied: idna<3,>=2.5 in /home/borghi/.local/lib/python3.9/site-packages (from requests<3,>=2.21.0->tensorboard~=2.5->tensorflow<3,>=2.1.0->tensorflowjs) (2.10)\n",
      "Requirement already satisfied: urllib3<1.27,>=1.21.1 in /home/borghi/.local/lib/python3.9/site-packages (from requests<3,>=2.21.0->tensorboard~=2.5->tensorflow<3,>=2.1.0->tensorflowjs) (1.26.4)\n",
      "Requirement already satisfied: certifi>=2017.4.17 in /home/borghi/.local/lib/python3.9/site-packages (from requests<3,>=2.21.0->tensorboard~=2.5->tensorflow<3,>=2.1.0->tensorflowjs) (2020.12.5)\n",
      "Requirement already satisfied: chardet<5,>=3.0.2 in /home/borghi/.local/lib/python3.9/site-packages (from requests<3,>=2.21.0->tensorboard~=2.5->tensorflow<3,>=2.1.0->tensorflowjs) (4.0.0)\n",
      "Requirement already satisfied: oauthlib>=3.0.0 in /home/borghi/.local/lib/python3.9/site-packages (from requests-oauthlib>=0.7.0->google-auth-oauthlib<0.5,>=0.4.1->tensorboard~=2.5->tensorflow<3,>=2.1.0->tensorflowjs) (3.1.0)\n",
      "2021-05-28 15:10:57.995038: I tensorflow/stream_executor/platform/default/dso_loader.cc:53] Successfully opened dynamic library libcudart.so.11.0\n"
     ]
    }
   ],
   "source": [
    "# Create files group1-shard1of1.bin and model.json\n",
    "!pip install tensorflowjs\n",
    "!tensorflowjs_converter --input_format=keras model.h5 content"
   ]
  },
  {
   "cell_type": "code",
   "execution_count": 30,
   "metadata": {},
   "outputs": [
    {
     "output_type": "stream",
     "name": "stdout",
     "text": [
      "tf.Tensor([0. 0. 0. 0. 0. 0. 0. 1. 0. 0.], shape=(10,), dtype=float32)\n"
     ]
    },
    {
     "output_type": "execute_result",
     "data": {
      "text/plain": [
       "array([[1.4223905e-11, 3.4115580e-15, 7.6145285e-11, 1.2715589e-08,\n",
       "        4.7100352e-20, 2.0980909e-15, 1.1089424e-19, 1.0000000e+00,\n",
       "        7.6540976e-13, 4.7270055e-10]], dtype=float32)"
      ]
     },
     "metadata": {},
     "execution_count": 30
    }
   ],
   "source": [
    "print(y_test[0])\n",
    "model.predict(x_test[0].reshape(1,784))"
   ]
  },
  {
   "cell_type": "code",
   "execution_count": null,
   "metadata": {},
   "outputs": [],
   "source": []
  }
 ],
 "metadata": {
  "kernelspec": {
   "name": "python3",
   "display_name": "Python 3.9.1 64-bit"
  },
  "language_info": {
   "codemirror_mode": {
    "name": "ipython",
    "version": 3
   },
   "file_extension": ".py",
   "mimetype": "text/x-python",
   "name": "python",
   "nbconvert_exporter": "python",
   "pygments_lexer": "ipython3",
   "version": "3.9.1"
  }
 },
 "nbformat": 4,
 "nbformat_minor": 2
}